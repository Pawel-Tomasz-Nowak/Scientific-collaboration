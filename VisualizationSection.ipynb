{
 "cells": [
  {
   "cell_type": "code",
   "execution_count": 4,
   "metadata": {},
   "outputs": [
    {
     "data": {
      "text/plain": [
       "<ModelsComparator.ModelsComparisom at 0x1c518babc80>"
      ]
     },
     "execution_count": 4,
     "metadata": {},
     "output_type": "execute_result"
    }
   ],
   "source": [
    "import pickle\n",
    "\n",
    "\n",
    "FileStoringComparator = open(\"ComparatorFile.pkl\", mode = \"rb\")\n",
    "\n",
    "\n",
    "WielkiEstimator = pickle.load(file = FileStoringComparator)\n",
    "\n",
    "WielkiEstimator"
   ]
  },
  {
   "cell_type": "code",
   "execution_count": 5,
   "metadata": {},
   "outputs": [
    {
     "name": "stdout",
     "output_type": "stream",
     "text": [
      "model      DrzewkoDecyzyjne                                               ...  \\\n",
      "train_type     noFS_untuned                                               ...   \n",
      "iter_idx                 0         1         2         3         4        ...   \n",
      "y_type                 True Pred True Pred True Pred True Pred True Pred  ...   \n",
      "0                         2    2    2    2    2    2    1    1    1    1  ...   \n",
      "1                         2    2    1    1    1    1    2    2    1    1  ...   \n",
      "2                         2    2    2    2    2    2    1    1    2    2  ...   \n",
      "3                         2    2    1    1    2    2    1    1    2    2  ...   \n",
      "4                         2    2    1    1    2    2    1    1    1    1  ...   \n",
      "...                     ...  ...  ...  ...  ...  ...  ...  ...  ...  ...  ...   \n",
      "1472                      1    1    1    1    1    1    1    1    1    1  ...   \n",
      "1473                      2    2    2    2    1    1    1    1    1    1  ...   \n",
      "1474                      1    1    2    2    2    2    1    1    1    1  ...   \n",
      "1475                      1    1    1    1    2    2    1    1    2    2  ...   \n",
      "1476                      2    2    1    1    2    2    1    1    2    2  ...   \n",
      "\n",
      "model      RegresjaLiniowa                                               \n",
      "train_type              FE                                               \n",
      "iter_idx                10        11        12        13        14       \n",
      "y_type                True Pred True Pred True Pred True Pred True Pred  \n",
      "0                        2    1    1    1    2    2    2    2    1    1  \n",
      "1                        1    1    1    1    2    2    2    2    1    1  \n",
      "2                        2    2    2    2    2    2    2    2    1    2  \n",
      "3                        2    2    1    1    1    1    1    1    1    1  \n",
      "4                        2    2    2    2    1    1    2    2    1    1  \n",
      "...                    ...  ...  ...  ...  ...  ...  ...  ...  ...  ...  \n",
      "1472                     1    1    0    1    1    1    2    1    1    1  \n",
      "1473                     2    2    2    2    0    1    2    2    1    1  \n",
      "1474                     2    2    1    1    1    1    2    2    1    1  \n",
      "1475                     2    2    2    2    1    1    1    1    1    1  \n",
      "1476                     1    1    1    1    2    2    2    2    1    1  \n",
      "\n",
      "[1477 rows x 750 columns]\n"
     ]
    }
   ],
   "source": [
    "print(WielkiEstimator.FactVsPrediction)"
   ]
  }
 ],
 "metadata": {
  "kernelspec": {
   "display_name": "Python 3",
   "language": "python",
   "name": "python3"
  },
  "language_info": {
   "codemirror_mode": {
    "name": "ipython",
    "version": 3
   },
   "file_extension": ".py",
   "mimetype": "text/x-python",
   "name": "python",
   "nbconvert_exporter": "python",
   "pygments_lexer": "ipython3",
   "version": "3.12.0"
  }
 },
 "nbformat": 4,
 "nbformat_minor": 2
}
