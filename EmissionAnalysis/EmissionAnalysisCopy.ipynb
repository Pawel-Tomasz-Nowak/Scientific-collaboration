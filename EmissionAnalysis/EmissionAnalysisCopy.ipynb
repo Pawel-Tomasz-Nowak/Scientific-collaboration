{
 "cells": [
  {
   "cell_type": "markdown",
   "metadata": {},
   "source": [
    "### Importing necessary noUDF"
   ]
  },
  {
   "cell_type": "code",
   "execution_count": 9,
   "metadata": {},
   "outputs": [],
   "source": [
    "from sklearn.tree import DecisionTreeClassifier\n",
    "from sklearn.neighbors import KNeighborsClassifier\n",
    "from sklearn.linear_model import LogisticRegression, LinearRegression\n",
    "from sklearn.ensemble import RandomForestClassifier\n",
    "\n",
    "import numpy as np\n",
    "import os\n",
    "import importlib\n",
    "import sys\n",
    "\n",
    "import Modules.Classes as Classes\n",
    "import importlib\n",
    "\n",
    "importlib.reload(Classes) #Reload the custom module to avoid clicking \"Restart\" every time I have changed \"Modules.Classes\" file.\n",
    "\n",
    "module_path = os.path.dirname( os.getcwd()) #Find the directory where we can find the 'Modules' library.\n",
    "sys.path.append(module_path)\n",
    "\n"
   ]
  },
  {
   "cell_type": "markdown",
   "metadata": {},
   "source": [
    "### Defining constants for the models."
   ]
  },
  {
   "cell_type": "code",
   "execution_count": 10,
   "metadata": {},
   "outputs": [],
   "source": [
    "#The datatype of each feature of the dataframe.\n",
    "dtypes = { \"Make\": \"string\", \n",
    "            \"Model\":\"string\",\n",
    "            \"Vehicle Class\":\"string\",\n",
    "            \"Engine Size(L)\":np.float64,\n",
    "            \"Cylinders\":np.int8,\n",
    "            \"Transmission\":\"string\",\n",
    "            \"Fuel Type\":\"string\",\n",
    "            \"Fuel Consumption City (L/100 km)\":np.float64,\n",
    "            \"Fuel Consumption Hwy (L/100 km)\":np.float64,\n",
    "            \"Fuel Consumption Comb (L/100 km)\":np.float64,\n",
    "            \"Fuel Consumption Comb (mpg)\":np.float64,\n",
    "            \"CO2 Emissions(g/km)\":np.float64}\n",
    "\n",
    "\n",
    "# Define the dictionary of  ML models we will be training.\n",
    "Models = {\n",
    "    \"DecisionTree\": DecisionTreeClassifier(criterion=\"gini\", splitter=\"best\", min_samples_split=2), \n",
    "    \"RandomForest\": RandomForestClassifier(n_estimators=15, criterion='gini'), \n",
    "    \"KNN\": KNeighborsClassifier(n_neighbors=5),\n",
    "    \"LogReg\": LogisticRegression(max_iter = 200,),\n",
    "   \"LinReg\":Classes.MultiOutputLinearRegression(LinearRegression())\n",
    "}    \n",
    "\n",
    "#For each ML model create it's corresponding parameter space.\n",
    "Models_hipparams = {\"DecisionTree\":{\"criterion\":['gini','entropy'],\n",
    "                                       \"splitter\":['best','random'],\n",
    "                                       \"min_samples_split\":[2,3],\n",
    "                                        \"min_samples_leaf\":[2,3]},\n",
    "\n",
    "                    \"RandomForest\":{\"n_estimators\":list(range(5, 25, 5)),\n",
    "                                        \"min_samples_split\":[2,3],\n",
    "                                       \"min_samples_leaf\":[2,3]},\n",
    "                                       \n",
    "                 \"KNN\": {\"n_neighbors\":list(range(1, 10, 2)),\n",
    "                            \"p\":[1,2]},\n",
    "                            \n",
    "                        \"LogReg\": {\n",
    "                        \"max_iter\":[250, 300],\n",
    "                            \"penalty\":['l2'],\n",
    "                              \"solver\":['liblinear','newton-cg',],\n",
    "                              \n",
    "                        },\n",
    "                     \"LinReg\":{},\n",
    "                             }\n",
    "\n"
   ]
  },
  {
   "cell_type": "markdown",
   "metadata": {},
   "source": [
    "### Exploratory Data Analysis (EDA) section."
   ]
  },
  {
   "cell_type": "code",
   "execution_count": 11,
   "metadata": {},
   "outputs": [
    {
     "name": "stdout",
     "output_type": "stream",
     "text": [
      "Testowanie numero dos\n"
     ]
    }
   ],
   "source": [
    "\n",
    "target_var: str = \"CO2 Emissions(g/km)\" #The target variable's name\n",
    "file_name:str = \"CO2Emission.csv\" #The filename\n",
    "\n",
    "\n",
    "n_splits:int = 45 # How many times we'll be learning each model.\n",
    "train_size:float = 0.8 #The size of training set\n",
    "test_size:float  = 1 - train_size #The size of testing set.\n",
    "\n",
    "progi:tuple[int] = (-float(\"inf\"), 175, 250, float(\"inf\")) #Progi klas emisyjności dwutlenku węgla.\n",
    "\n",
    "ModelComparator = Classes.ModelComparator(Filename = file_name, target_var = target_var, dtypes = dtypes, \n",
    "                                        Models = Models, Models_hipparams = Models_hipparams, \n",
    "                                        n_splits = n_splits, train_size  = train_size, test_size = test_size, \n",
    "                                        bins = progi, show_plots = False, quartile_discr = False, quartile_classes = None\n",
    "                                        )\n",
    "\n",
    "ModelComparator.descriptive_statistics()\n"
   ]
  },
  {
   "cell_type": "markdown",
   "metadata": {},
   "source": []
  },
  {
   "cell_type": "markdown",
   "metadata": {},
   "source": [
    "### Training-the-models section."
   ]
  },
  {
   "cell_type": "code",
   "execution_count": 12,
   "metadata": {},
   "outputs": [],
   "source": [
    "#ModelComparator.train_models()"
   ]
  },
  {
   "cell_type": "markdown",
   "metadata": {},
   "source": [
    "### Visualization the results section."
   ]
  },
  {
   "cell_type": "code",
   "execution_count": 13,
   "metadata": {},
   "outputs": [],
   "source": [
    "#ModelComparator.compare_models()"
   ]
  }
 ],
 "metadata": {
  "kernelspec": {
   "display_name": "Python 3",
   "language": "python",
   "name": "python3"
  },
  "language_info": {
   "codemirror_mode": {
    "name": "ipython",
    "version": 3
   },
   "file_extension": ".py",
   "mimetype": "text/x-python",
   "name": "python",
   "nbconvert_exporter": "python",
   "pygments_lexer": "ipython3",
   "version": "3.12.0"
  }
 },
 "nbformat": 4,
 "nbformat_minor": 2
}
